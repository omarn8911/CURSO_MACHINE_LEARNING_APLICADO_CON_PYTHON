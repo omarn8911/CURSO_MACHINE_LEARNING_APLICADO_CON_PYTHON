{
  "nbformat": 4,
  "nbformat_minor": 0,
  "metadata": {
    "colab": {
      "name": "Modelo_predictivo_IMDB.ipynb",
      "provenance": [],
      "authorship_tag": "ABX9TyNVt5Rqv4hCSwePKVgLvw1l",
      "include_colab_link": true
    },
    "kernelspec": {
      "name": "python3",
      "display_name": "Python 3"
    }
  },
  "cells": [
    {
      "cell_type": "markdown",
      "metadata": {
        "id": "view-in-github",
        "colab_type": "text"
      },
      "source": [
        "<a href=\"https://colab.research.google.com/github/omarn8911/PROYECTO_CURSO_MACHINE_LEARNING_APLICADO_CON_PYTHON/blob/master/Modelo_predictivo_IMDB.ipynb\" target=\"_parent\"><img src=\"https://colab.research.google.com/assets/colab-badge.svg\" alt=\"Open In Colab\"/></a>"
      ]
    },
    {
      "cell_type": "code",
      "metadata": {
        "id": "SI210I00NAlT",
        "colab_type": "code",
        "colab": {}
      },
      "source": [
        "import numpy as np\n",
        "import pandas as pd\n",
        "import matplotlib.pyplot as plt\n",
        "import seaborn\n",
        "import pandas.util.testing as tm\n",
        "import sklearn"
      ],
      "execution_count": 52,
      "outputs": []
    },
    {
      "cell_type": "code",
      "metadata": {
        "id": "fEVpfstBFDkZ",
        "colab_type": "code",
        "colab": {}
      },
      "source": [
        "%matplotlib  inline"
      ],
      "execution_count": 3,
      "outputs": []
    },
    {
      "cell_type": "code",
      "metadata": {
        "id": "HZ4gsOU0HDv1",
        "colab_type": "code",
        "colab": {
          "base_uri": "https://localhost:8080/",
          "height": 34
        },
        "outputId": "d8b3f57b-76ce-42a7-8b30-688b50c94b4a"
      },
      "source": [
        "movies = pd.read_csv('https://github.com/JuanPabloMF/datasets-platzi-course/blob/master/datasets/peliculas.csv?raw=true',encoding='utf-8')\n",
        "\n",
        "type(movies)"
      ],
      "execution_count": 4,
      "outputs": [
        {
          "output_type": "execute_result",
          "data": {
            "text/plain": [
              "pandas.core.frame.DataFrame"
            ]
          },
          "metadata": {
            "tags": []
          },
          "execution_count": 4
        }
      ]
    },
    {
      "cell_type": "code",
      "metadata": {
        "id": "2-3ImctYG1KP",
        "colab_type": "code",
        "colab": {
          "base_uri": "https://localhost:8080/",
          "height": 360
        },
        "outputId": "15845741-f0d7-462c-84a3-2e0d65ac72d3"
      },
      "source": [
        "movies.head()"
      ],
      "execution_count": 5,
      "outputs": [
        {
          "output_type": "execute_result",
          "data": {
            "text/html": [
              "<div>\n",
              "<style scoped>\n",
              "    .dataframe tbody tr th:only-of-type {\n",
              "        vertical-align: middle;\n",
              "    }\n",
              "\n",
              "    .dataframe tbody tr th {\n",
              "        vertical-align: top;\n",
              "    }\n",
              "\n",
              "    .dataframe thead th {\n",
              "        text-align: right;\n",
              "    }\n",
              "</style>\n",
              "<table border=\"1\" class=\"dataframe\">\n",
              "  <thead>\n",
              "    <tr style=\"text-align: right;\">\n",
              "      <th></th>\n",
              "      <th>movie_title</th>\n",
              "      <th>title_year</th>\n",
              "      <th>color</th>\n",
              "      <th>aspect_ratio</th>\n",
              "      <th>duration</th>\n",
              "      <th>language</th>\n",
              "      <th>country</th>\n",
              "      <th>duration.1</th>\n",
              "      <th>genres</th>\n",
              "      <th>content_rating</th>\n",
              "      <th>plot_keywords</th>\n",
              "      <th>director_name</th>\n",
              "      <th>actor_1_name</th>\n",
              "      <th>actor_2_name</th>\n",
              "      <th>actor_3_name</th>\n",
              "      <th>cast_total_facebook_likes</th>\n",
              "      <th>budget</th>\n",
              "      <th>imdb_score</th>\n",
              "      <th>gross</th>\n",
              "    </tr>\n",
              "  </thead>\n",
              "  <tbody>\n",
              "    <tr>\n",
              "      <th>0</th>\n",
              "      <td>Avatar</td>\n",
              "      <td>2009.0</td>\n",
              "      <td>Color</td>\n",
              "      <td>1.78</td>\n",
              "      <td>178.0</td>\n",
              "      <td>English</td>\n",
              "      <td>USA</td>\n",
              "      <td>178.0</td>\n",
              "      <td>Action|Adventure|Fantasy|Sci-Fi</td>\n",
              "      <td>PG-13</td>\n",
              "      <td>avatar|future|marine|native|paraplegic</td>\n",
              "      <td>James Cameron</td>\n",
              "      <td>CCH Pounder</td>\n",
              "      <td>Joel David Moore</td>\n",
              "      <td>Wes Studi</td>\n",
              "      <td>4834</td>\n",
              "      <td>237000000.0</td>\n",
              "      <td>7.9</td>\n",
              "      <td>760505847.0</td>\n",
              "    </tr>\n",
              "    <tr>\n",
              "      <th>1</th>\n",
              "      <td>Pirates of the Caribbean: At World's End</td>\n",
              "      <td>2007.0</td>\n",
              "      <td>Color</td>\n",
              "      <td>2.35</td>\n",
              "      <td>169.0</td>\n",
              "      <td>English</td>\n",
              "      <td>USA</td>\n",
              "      <td>169.0</td>\n",
              "      <td>Action|Adventure|Fantasy</td>\n",
              "      <td>PG-13</td>\n",
              "      <td>goddess|marriage ceremony|marriage proposal|pi...</td>\n",
              "      <td>Gore Verbinski</td>\n",
              "      <td>Johnny Depp</td>\n",
              "      <td>Orlando Bloom</td>\n",
              "      <td>Jack Davenport</td>\n",
              "      <td>48350</td>\n",
              "      <td>300000000.0</td>\n",
              "      <td>7.1</td>\n",
              "      <td>309404152.0</td>\n",
              "    </tr>\n",
              "    <tr>\n",
              "      <th>2</th>\n",
              "      <td>Spectre</td>\n",
              "      <td>2015.0</td>\n",
              "      <td>Color</td>\n",
              "      <td>2.35</td>\n",
              "      <td>148.0</td>\n",
              "      <td>English</td>\n",
              "      <td>UK</td>\n",
              "      <td>148.0</td>\n",
              "      <td>Action|Adventure|Thriller</td>\n",
              "      <td>PG-13</td>\n",
              "      <td>bomb|espionage|sequel|spy|terrorist</td>\n",
              "      <td>Sam Mendes</td>\n",
              "      <td>Christoph Waltz</td>\n",
              "      <td>Rory Kinnear</td>\n",
              "      <td>Stephanie Sigman</td>\n",
              "      <td>11700</td>\n",
              "      <td>245000000.0</td>\n",
              "      <td>6.8</td>\n",
              "      <td>200074175.0</td>\n",
              "    </tr>\n",
              "    <tr>\n",
              "      <th>3</th>\n",
              "      <td>The Dark Knight Rises</td>\n",
              "      <td>2012.0</td>\n",
              "      <td>Color</td>\n",
              "      <td>2.35</td>\n",
              "      <td>164.0</td>\n",
              "      <td>English</td>\n",
              "      <td>USA</td>\n",
              "      <td>164.0</td>\n",
              "      <td>Action|Thriller</td>\n",
              "      <td>PG-13</td>\n",
              "      <td>deception|imprisonment|lawlessness|police offi...</td>\n",
              "      <td>Christopher Nolan</td>\n",
              "      <td>Tom Hardy</td>\n",
              "      <td>Christian Bale</td>\n",
              "      <td>Joseph Gordon-Levitt</td>\n",
              "      <td>106759</td>\n",
              "      <td>250000000.0</td>\n",
              "      <td>8.5</td>\n",
              "      <td>448130642.0</td>\n",
              "    </tr>\n",
              "    <tr>\n",
              "      <th>4</th>\n",
              "      <td>Star Wars: Episode VII - The Force Awakens    ...</td>\n",
              "      <td>NaN</td>\n",
              "      <td>NaN</td>\n",
              "      <td>NaN</td>\n",
              "      <td>NaN</td>\n",
              "      <td>NaN</td>\n",
              "      <td>NaN</td>\n",
              "      <td>NaN</td>\n",
              "      <td>Documentary</td>\n",
              "      <td>NaN</td>\n",
              "      <td>NaN</td>\n",
              "      <td>Doug Walker</td>\n",
              "      <td>Doug Walker</td>\n",
              "      <td>Rob Walker</td>\n",
              "      <td>NaN</td>\n",
              "      <td>143</td>\n",
              "      <td>NaN</td>\n",
              "      <td>7.1</td>\n",
              "      <td>NaN</td>\n",
              "    </tr>\n",
              "  </tbody>\n",
              "</table>\n",
              "</div>"
            ],
            "text/plain": [
              "                                         movie_title  ...        gross\n",
              "0                                            Avatar   ...  760505847.0\n",
              "1          Pirates of the Caribbean: At World's End   ...  309404152.0\n",
              "2                                           Spectre   ...  200074175.0\n",
              "3                             The Dark Knight Rises   ...  448130642.0\n",
              "4  Star Wars: Episode VII - The Force Awakens    ...  ...          NaN\n",
              "\n",
              "[5 rows x 19 columns]"
            ]
          },
          "metadata": {
            "tags": []
          },
          "execution_count": 5
        }
      ]
    },
    {
      "cell_type": "code",
      "metadata": {
        "id": "iqPc0JQiHdWx",
        "colab_type": "code",
        "colab": {
          "base_uri": "https://localhost:8080/",
          "height": 119
        },
        "outputId": "452cff12-763e-4d61-c32a-cf20318aaba8"
      },
      "source": [
        "movies.columns"
      ],
      "execution_count": 6,
      "outputs": [
        {
          "output_type": "execute_result",
          "data": {
            "text/plain": [
              "Index(['movie_title', 'title_year', 'color', 'aspect_ratio', 'duration',\n",
              "       'language', 'country', 'duration.1', 'genres', 'content_rating',\n",
              "       'plot_keywords', 'director_name', 'actor_1_name', 'actor_2_name',\n",
              "       'actor_3_name', 'cast_total_facebook_likes', 'budget', 'imdb_score',\n",
              "       'gross'],\n",
              "      dtype='object')"
            ]
          },
          "metadata": {
            "tags": []
          },
          "execution_count": 6
        }
      ]
    },
    {
      "cell_type": "code",
      "metadata": {
        "id": "fiPAaFdRHn26",
        "colab_type": "code",
        "colab": {
          "base_uri": "https://localhost:8080/",
          "height": 34
        },
        "outputId": "d1e2ced9-52c1-4244-a62f-b6cb2030c28e"
      },
      "source": [
        "movies.index"
      ],
      "execution_count": 7,
      "outputs": [
        {
          "output_type": "execute_result",
          "data": {
            "text/plain": [
              "RangeIndex(start=0, stop=5043, step=1)"
            ]
          },
          "metadata": {
            "tags": []
          },
          "execution_count": 7
        }
      ]
    },
    {
      "cell_type": "code",
      "metadata": {
        "id": "rxdm8RRWHr1C",
        "colab_type": "code",
        "colab": {
          "base_uri": "https://localhost:8080/",
          "height": 119
        },
        "outputId": "a6e8a369-fca6-4c2c-cfb3-f188c1860826"
      },
      "source": [
        "columna1 = movies['movie_title']\n",
        "columna1.head()"
      ],
      "execution_count": 8,
      "outputs": [
        {
          "output_type": "execute_result",
          "data": {
            "text/plain": [
              "0                                              Avatar \n",
              "1            Pirates of the Caribbean: At World's End \n",
              "2                                             Spectre \n",
              "3                               The Dark Knight Rises \n",
              "4    Star Wars: Episode VII - The Force Awakens    ...\n",
              "Name: movie_title, dtype: object"
            ]
          },
          "metadata": {
            "tags": []
          },
          "execution_count": 8
        }
      ]
    },
    {
      "cell_type": "code",
      "metadata": {
        "id": "3FdrsKwhH3Xq",
        "colab_type": "code",
        "colab": {
          "base_uri": "https://localhost:8080/",
          "height": 357
        },
        "outputId": "5b90c16b-2ed5-4a4a-83a4-25bf3768b9e7"
      },
      "source": [
        "linea = movies.loc[10,:]\n",
        "linea"
      ],
      "execution_count": 9,
      "outputs": [
        {
          "output_type": "execute_result",
          "data": {
            "text/plain": [
              "movie_title                                Batman v Superman: Dawn of Justice \n",
              "title_year                                                                2016\n",
              "color                                                                    Color\n",
              "aspect_ratio                                                              2.35\n",
              "duration                                                                   183\n",
              "language                                                               English\n",
              "country                                                                    USA\n",
              "duration.1                                                                 183\n",
              "genres                                                 Action|Adventure|Sci-Fi\n",
              "content_rating                                                           PG-13\n",
              "plot_keywords                based on comic book|batman|sequel to a reboot|...\n",
              "director_name                                                      Zack Snyder\n",
              "actor_1_name                                                      Henry Cavill\n",
              "actor_2_name                                                      Lauren Cohan\n",
              "actor_3_name                                                    Alan D. Purwin\n",
              "cast_total_facebook_likes                                                24450\n",
              "budget                                                                 2.5e+08\n",
              "imdb_score                                                                 6.9\n",
              "gross                                                              3.30249e+08\n",
              "Name: 10, dtype: object"
            ]
          },
          "metadata": {
            "tags": []
          },
          "execution_count": 9
        }
      ]
    },
    {
      "cell_type": "code",
      "metadata": {
        "id": "HNsRv0TvIJky",
        "colab_type": "code",
        "colab": {
          "base_uri": "https://localhost:8080/",
          "height": 221
        },
        "outputId": "a68eb37b-bcf2-42c3-cc53-5ce5b4dfcfc8"
      },
      "source": [
        "linea = movies.loc[:,'movie_title'].head(11)\n",
        "linea"
      ],
      "execution_count": 10,
      "outputs": [
        {
          "output_type": "execute_result",
          "data": {
            "text/plain": [
              "0                                               Avatar \n",
              "1             Pirates of the Caribbean: At World's End \n",
              "2                                              Spectre \n",
              "3                                The Dark Knight Rises \n",
              "4     Star Wars: Episode VII - The Force Awakens    ...\n",
              "5                                          John Carter \n",
              "6                                         Spider-Man 3 \n",
              "7                                              Tangled \n",
              "8                              Avengers: Age of Ultron \n",
              "9               Harry Potter and the Half-Blood Prince \n",
              "10                  Batman v Superman: Dawn of Justice \n",
              "Name: movie_title, dtype: object"
            ]
          },
          "metadata": {
            "tags": []
          },
          "execution_count": 10
        }
      ]
    },
    {
      "cell_type": "code",
      "metadata": {
        "id": "ZXB5jqzudT3g",
        "colab_type": "code",
        "colab": {
          "base_uri": "https://localhost:8080/",
          "height": 459
        },
        "outputId": "a7f6edb1-3474-4ba9-ef7b-a9d331a91699"
      },
      "source": [
        "movies.info()"
      ],
      "execution_count": 11,
      "outputs": [
        {
          "output_type": "stream",
          "text": [
            "<class 'pandas.core.frame.DataFrame'>\n",
            "RangeIndex: 5043 entries, 0 to 5042\n",
            "Data columns (total 19 columns):\n",
            " #   Column                     Non-Null Count  Dtype  \n",
            "---  ------                     --------------  -----  \n",
            " 0   movie_title                5043 non-null   object \n",
            " 1   title_year                 4935 non-null   float64\n",
            " 2   color                      5024 non-null   object \n",
            " 3   aspect_ratio               4714 non-null   float64\n",
            " 4   duration                   5028 non-null   float64\n",
            " 5   language                   5031 non-null   object \n",
            " 6   country                    5038 non-null   object \n",
            " 7   duration.1                 5028 non-null   float64\n",
            " 8   genres                     5043 non-null   object \n",
            " 9   content_rating             4740 non-null   object \n",
            " 10  plot_keywords              4890 non-null   object \n",
            " 11  director_name              4939 non-null   object \n",
            " 12  actor_1_name               5036 non-null   object \n",
            " 13  actor_2_name               5030 non-null   object \n",
            " 14  actor_3_name               5020 non-null   object \n",
            " 15  cast_total_facebook_likes  5043 non-null   int64  \n",
            " 16  budget                     4551 non-null   float64\n",
            " 17  imdb_score                 5043 non-null   float64\n",
            " 18  gross                      4159 non-null   float64\n",
            "dtypes: float64(7), int64(1), object(11)\n",
            "memory usage: 748.7+ KB\n"
          ],
          "name": "stdout"
        }
      ]
    },
    {
      "cell_type": "code",
      "metadata": {
        "id": "FCw4wZ0bdVib",
        "colab_type": "code",
        "colab": {}
      },
      "source": [
        "#separando columnas numéricas de las columnas de texto\n",
        "# si quisiera validar que tipos tengo uso: movies.dtypes\n",
        "#si quisiera validar cuales son enteros con respuesta booleana uso: movies.dtypes == int\n",
        "#si quisiera validar cuales son flotantes con respuesta booleana uso: movies.dtypes == float\n",
        "\n",
        "#para este ejercicio voy a validar de una vez los flotantes y enteros, osea numéricos en una sóla linea:\n",
        "num = (movies.dtypes == float) | (movies.dtypes == int) #y guardo esas columnas en la variavle num"
      ],
      "execution_count": 12,
      "outputs": []
    },
    {
      "cell_type": "code",
      "metadata": {
        "id": "SgTNwQq3eEVY",
        "colab_type": "code",
        "colab": {
          "base_uri": "https://localhost:8080/",
          "height": 357
        },
        "outputId": "4c310c4e-767d-4ceb-c6de-bd65737ddb7b"
      },
      "source": [
        "#valido las columnas que son de texto:\n",
        "movies.dtypes == object"
      ],
      "execution_count": 14,
      "outputs": [
        {
          "output_type": "execute_result",
          "data": {
            "text/plain": [
              "movie_title                   True\n",
              "title_year                   False\n",
              "color                         True\n",
              "aspect_ratio                 False\n",
              "duration                     False\n",
              "language                      True\n",
              "country                       True\n",
              "duration.1                   False\n",
              "genres                        True\n",
              "content_rating                True\n",
              "plot_keywords                 True\n",
              "director_name                 True\n",
              "actor_1_name                  True\n",
              "actor_2_name                  True\n",
              "actor_3_name                  True\n",
              "cast_total_facebook_likes    False\n",
              "budget                       False\n",
              "imdb_score                   False\n",
              "gross                        False\n",
              "dtype: bool"
            ]
          },
          "metadata": {
            "tags": []
          },
          "execution_count": 14
        }
      ]
    },
    {
      "cell_type": "code",
      "metadata": {
        "id": "3TmNRwcTfbxU",
        "colab_type": "code",
        "colab": {
          "base_uri": "https://localhost:8080/",
          "height": 119
        },
        "outputId": "83c9fc96-0d28-450b-abeb-e82a266d7130"
      },
      "source": [
        "num.index #con esto pido los index de mi tablita con columnas y booleano"
      ],
      "execution_count": 13,
      "outputs": [
        {
          "output_type": "execute_result",
          "data": {
            "text/plain": [
              "Index(['movie_title', 'title_year', 'color', 'aspect_ratio', 'duration',\n",
              "       'language', 'country', 'duration.1', 'genres', 'content_rating',\n",
              "       'plot_keywords', 'director_name', 'actor_1_name', 'actor_2_name',\n",
              "       'actor_3_name', 'cast_total_facebook_likes', 'budget', 'imdb_score',\n",
              "       'gross'],\n",
              "      dtype='object')"
            ]
          },
          "metadata": {
            "tags": []
          },
          "execution_count": 13
        }
      ]
    },
    {
      "cell_type": "code",
      "metadata": {
        "id": "fjuaDuVkgBZ2",
        "colab_type": "code",
        "colab": {
          "base_uri": "https://localhost:8080/",
          "height": 340
        },
        "outputId": "2b51a730-7d02-4260-dece-17d39bbdc737"
      },
      "source": [
        "#si itero sobre los elementos de mi tabla de columbas obtengo los booleanos\n",
        "for el in num:\n",
        "  print(el)"
      ],
      "execution_count": 14,
      "outputs": [
        {
          "output_type": "stream",
          "text": [
            "False\n",
            "True\n",
            "False\n",
            "True\n",
            "True\n",
            "False\n",
            "False\n",
            "True\n",
            "False\n",
            "False\n",
            "False\n",
            "False\n",
            "False\n",
            "False\n",
            "False\n",
            "True\n",
            "True\n",
            "True\n",
            "True\n"
          ],
          "name": "stdout"
        }
      ]
    },
    {
      "cell_type": "code",
      "metadata": {
        "id": "hEVlSUKCg61R",
        "colab_type": "code",
        "colab": {
          "base_uri": "https://localhost:8080/",
          "height": 340
        },
        "outputId": "641ecfd0-5767-42bf-8053-993060bd67e3"
      },
      "source": [
        "#Si itero sobre los index, obtengo los nombres de las columnas\n",
        "for el in num.index:\n",
        "  print(el)"
      ],
      "execution_count": 17,
      "outputs": [
        {
          "output_type": "stream",
          "text": [
            "movie_title\n",
            "title_year\n",
            "color\n",
            "aspect_ratio\n",
            "duration\n",
            "language\n",
            "country\n",
            "duration.1\n",
            "genres\n",
            "content_rating\n",
            "plot_keywords\n",
            "director_name\n",
            "actor_1_name\n",
            "actor_2_name\n",
            "actor_3_name\n",
            "cast_total_facebook_likes\n",
            "budget\n",
            "imdb_score\n",
            "gross\n"
          ],
          "name": "stdout"
        }
      ]
    },
    {
      "cell_type": "code",
      "metadata": {
        "id": "zDkYhvs0hCpy",
        "colab_type": "code",
        "colab": {}
      },
      "source": [
        "#ahora voy a iterar y guardar en una variables sólo las columnas que tengan True en su valor\n",
        "num_cols = [c for c in num.index if num[c]]"
      ],
      "execution_count": 15,
      "outputs": []
    },
    {
      "cell_type": "code",
      "metadata": {
        "id": "8gKYMJlFj6eS",
        "colab_type": "code",
        "colab": {
          "base_uri": "https://localhost:8080/",
          "height": 153
        },
        "outputId": "bd23a6e0-a196-4488-a28d-d951a979c99b"
      },
      "source": [
        "#revisamos\n",
        "num_cols"
      ],
      "execution_count": 19,
      "outputs": [
        {
          "output_type": "execute_result",
          "data": {
            "text/plain": [
              "['title_year',\n",
              " 'aspect_ratio',\n",
              " 'duration',\n",
              " 'duration.1',\n",
              " 'cast_total_facebook_likes',\n",
              " 'budget',\n",
              " 'imdb_score',\n",
              " 'gross']"
            ]
          },
          "metadata": {
            "tags": []
          },
          "execution_count": 19
        }
      ]
    },
    {
      "cell_type": "code",
      "metadata": {
        "id": "DqLezbOHiwEc",
        "colab_type": "code",
        "colab": {}
      },
      "source": [
        "#Guardamos en obj_cols sólo las columnas que son texto\n",
        "obj = (movies.dtypes == object)\n",
        "obj_cols = [c for c in obj.index if obj[c]] "
      ],
      "execution_count": 16,
      "outputs": []
    },
    {
      "cell_type": "code",
      "metadata": {
        "id": "Xl6r7TCbjYxh",
        "colab_type": "code",
        "colab": {
          "base_uri": "https://localhost:8080/",
          "height": 204
        },
        "outputId": "876e769c-5f84-425b-bfb4-d947366d62fe"
      },
      "source": [
        "#revisamos\n",
        "obj_cols"
      ],
      "execution_count": 21,
      "outputs": [
        {
          "output_type": "execute_result",
          "data": {
            "text/plain": [
              "['movie_title',\n",
              " 'color',\n",
              " 'language',\n",
              " 'country',\n",
              " 'genres',\n",
              " 'content_rating',\n",
              " 'plot_keywords',\n",
              " 'director_name',\n",
              " 'actor_1_name',\n",
              " 'actor_2_name',\n",
              " 'actor_3_name']"
            ]
          },
          "metadata": {
            "tags": []
          },
          "execution_count": 21
        }
      ]
    },
    {
      "cell_type": "code",
      "metadata": {
        "id": "hmCWIuozga2V",
        "colab_type": "code",
        "colab": {}
      },
      "source": [
        "movies_num = movies[num_cols]"
      ],
      "execution_count": 17,
      "outputs": []
    },
    {
      "cell_type": "code",
      "metadata": {
        "id": "1EAwimILhBwm",
        "colab_type": "code",
        "colab": {
          "base_uri": "https://localhost:8080/",
          "height": 297
        },
        "outputId": "0a2b141f-b9d2-4427-8db6-581343ceae35"
      },
      "source": [
        "movies_num.describe( )"
      ],
      "execution_count": 18,
      "outputs": [
        {
          "output_type": "execute_result",
          "data": {
            "text/html": [
              "<div>\n",
              "<style scoped>\n",
              "    .dataframe tbody tr th:only-of-type {\n",
              "        vertical-align: middle;\n",
              "    }\n",
              "\n",
              "    .dataframe tbody tr th {\n",
              "        vertical-align: top;\n",
              "    }\n",
              "\n",
              "    .dataframe thead th {\n",
              "        text-align: right;\n",
              "    }\n",
              "</style>\n",
              "<table border=\"1\" class=\"dataframe\">\n",
              "  <thead>\n",
              "    <tr style=\"text-align: right;\">\n",
              "      <th></th>\n",
              "      <th>title_year</th>\n",
              "      <th>aspect_ratio</th>\n",
              "      <th>duration</th>\n",
              "      <th>duration.1</th>\n",
              "      <th>cast_total_facebook_likes</th>\n",
              "      <th>budget</th>\n",
              "      <th>imdb_score</th>\n",
              "      <th>gross</th>\n",
              "    </tr>\n",
              "  </thead>\n",
              "  <tbody>\n",
              "    <tr>\n",
              "      <th>count</th>\n",
              "      <td>4935.000000</td>\n",
              "      <td>4714.000000</td>\n",
              "      <td>5028.000000</td>\n",
              "      <td>5028.000000</td>\n",
              "      <td>5043.000000</td>\n",
              "      <td>4.551000e+03</td>\n",
              "      <td>5043.000000</td>\n",
              "      <td>4.159000e+03</td>\n",
              "    </tr>\n",
              "    <tr>\n",
              "      <th>mean</th>\n",
              "      <td>2002.470517</td>\n",
              "      <td>2.220403</td>\n",
              "      <td>107.201074</td>\n",
              "      <td>107.201074</td>\n",
              "      <td>9699.063851</td>\n",
              "      <td>3.975262e+07</td>\n",
              "      <td>6.442138</td>\n",
              "      <td>4.846841e+07</td>\n",
              "    </tr>\n",
              "    <tr>\n",
              "      <th>std</th>\n",
              "      <td>12.474599</td>\n",
              "      <td>1.385113</td>\n",
              "      <td>25.197441</td>\n",
              "      <td>25.197441</td>\n",
              "      <td>18163.799124</td>\n",
              "      <td>2.061149e+08</td>\n",
              "      <td>1.125116</td>\n",
              "      <td>6.845299e+07</td>\n",
              "    </tr>\n",
              "    <tr>\n",
              "      <th>min</th>\n",
              "      <td>1916.000000</td>\n",
              "      <td>1.180000</td>\n",
              "      <td>7.000000</td>\n",
              "      <td>7.000000</td>\n",
              "      <td>0.000000</td>\n",
              "      <td>2.180000e+02</td>\n",
              "      <td>1.600000</td>\n",
              "      <td>1.620000e+02</td>\n",
              "    </tr>\n",
              "    <tr>\n",
              "      <th>25%</th>\n",
              "      <td>1999.000000</td>\n",
              "      <td>1.850000</td>\n",
              "      <td>93.000000</td>\n",
              "      <td>93.000000</td>\n",
              "      <td>1411.000000</td>\n",
              "      <td>6.000000e+06</td>\n",
              "      <td>5.800000</td>\n",
              "      <td>5.340988e+06</td>\n",
              "    </tr>\n",
              "    <tr>\n",
              "      <th>50%</th>\n",
              "      <td>2005.000000</td>\n",
              "      <td>2.350000</td>\n",
              "      <td>103.000000</td>\n",
              "      <td>103.000000</td>\n",
              "      <td>3090.000000</td>\n",
              "      <td>2.000000e+07</td>\n",
              "      <td>6.600000</td>\n",
              "      <td>2.551750e+07</td>\n",
              "    </tr>\n",
              "    <tr>\n",
              "      <th>75%</th>\n",
              "      <td>2011.000000</td>\n",
              "      <td>2.350000</td>\n",
              "      <td>118.000000</td>\n",
              "      <td>118.000000</td>\n",
              "      <td>13756.500000</td>\n",
              "      <td>4.500000e+07</td>\n",
              "      <td>7.200000</td>\n",
              "      <td>6.230944e+07</td>\n",
              "    </tr>\n",
              "    <tr>\n",
              "      <th>max</th>\n",
              "      <td>2016.000000</td>\n",
              "      <td>16.000000</td>\n",
              "      <td>511.000000</td>\n",
              "      <td>511.000000</td>\n",
              "      <td>656730.000000</td>\n",
              "      <td>1.221550e+10</td>\n",
              "      <td>9.500000</td>\n",
              "      <td>7.605058e+08</td>\n",
              "    </tr>\n",
              "  </tbody>\n",
              "</table>\n",
              "</div>"
            ],
            "text/plain": [
              "        title_year  aspect_ratio  ...   imdb_score         gross\n",
              "count  4935.000000   4714.000000  ...  5043.000000  4.159000e+03\n",
              "mean   2002.470517      2.220403  ...     6.442138  4.846841e+07\n",
              "std      12.474599      1.385113  ...     1.125116  6.845299e+07\n",
              "min    1916.000000      1.180000  ...     1.600000  1.620000e+02\n",
              "25%    1999.000000      1.850000  ...     5.800000  5.340988e+06\n",
              "50%    2005.000000      2.350000  ...     6.600000  2.551750e+07\n",
              "75%    2011.000000      2.350000  ...     7.200000  6.230944e+07\n",
              "max    2016.000000     16.000000  ...     9.500000  7.605058e+08\n",
              "\n",
              "[8 rows x 8 columns]"
            ]
          },
          "metadata": {
            "tags": []
          },
          "execution_count": 18
        }
      ]
    },
    {
      "cell_type": "code",
      "metadata": {
        "id": "X9iMIMk_hgUi",
        "colab_type": "code",
        "colab": {}
      },
      "source": [
        "movies_num['duration'].hist()"
      ],
      "execution_count": null,
      "outputs": []
    },
    {
      "cell_type": "code",
      "metadata": {
        "id": "UMpyiJumh9JS",
        "colab_type": "code",
        "colab": {
          "base_uri": "https://localhost:8080/",
          "height": 282
        },
        "outputId": "dd3a203e-c946-4009-ab42-73eea1850263"
      },
      "source": [
        "movies_num['imdb_score'].hist()"
      ],
      "execution_count": 26,
      "outputs": [
        {
          "output_type": "execute_result",
          "data": {
            "text/plain": [
              "<matplotlib.axes._subplots.AxesSubplot at 0x7fcfb010e940>"
            ]
          },
          "metadata": {
            "tags": []
          },
          "execution_count": 26
        },
        {
          "output_type": "display_data",
          "data": {
            "image/png": "[encoded data removed]",
            "text/plain": [
              "<Figure size 432x288 with 1 Axes>"
            ]
          },
          "metadata": {
            "tags": [],
            "needs_background": "light"
          }
        }
      ]
    },
    {
      "cell_type": "code",
      "metadata": {
        "id": "PRxSOoWiiMUC",
        "colab_type": "code",
        "colab": {
          "base_uri": "https://localhost:8080/",
          "height": 295
        },
        "outputId": "42857aec-62e2-4d7b-b094-271518af6bb8"
      },
      "source": [
        "movies_num['budget'].hist()"
      ],
      "execution_count": 21,
      "outputs": [
        {
          "output_type": "execute_result",
          "data": {
            "text/plain": [
              "<matplotlib.axes._subplots.AxesSubplot at 0x7fe1d1b37b70>"
            ]
          },
          "metadata": {
            "tags": []
          },
          "execution_count": 21
        },
        {
          "output_type": "display_data",
          "data": {
            "image/png": "[encoded data removed]",
            "text/plain": [
              "<Figure size 432x288 with 1 Axes>"
            ]
          },
          "metadata": {
            "tags": [],
            "needs_background": "light"
          }
        }
      ]
    },
    {
      "cell_type": "code",
      "metadata": {
        "id": "0IICbip-ih3y",
        "colab_type": "code",
        "colab": {}
      },
      "source": [
        "mask = (movies_num['budget'] > 1e9)"
      ],
      "execution_count": 19,
      "outputs": []
    },
    {
      "cell_type": "code",
      "metadata": {
        "id": "TodZx7hAjByb",
        "colab_type": "code",
        "colab": {
          "base_uri": "https://localhost:8080/",
          "height": 374
        },
        "outputId": "ee22e535-9f99-4c14-8906-0362c9137a5b"
      },
      "source": [
        "movies[mask]"
      ],
      "execution_count": 20,
      "outputs": [
        {
          "output_type": "execute_result",
          "data": {
            "text/html": [
              "<div>\n",
              "<style scoped>\n",
              "    .dataframe tbody tr th:only-of-type {\n",
              "        vertical-align: middle;\n",
              "    }\n",
              "\n",
              "    .dataframe tbody tr th {\n",
              "        vertical-align: top;\n",
              "    }\n",
              "\n",
              "    .dataframe thead th {\n",
              "        text-align: right;\n",
              "    }\n",
              "</style>\n",
              "<table border=\"1\" class=\"dataframe\">\n",
              "  <thead>\n",
              "    <tr style=\"text-align: right;\">\n",
              "      <th></th>\n",
              "      <th>movie_title</th>\n",
              "      <th>title_year</th>\n",
              "      <th>color</th>\n",
              "      <th>aspect_ratio</th>\n",
              "      <th>duration</th>\n",
              "      <th>language</th>\n",
              "      <th>country</th>\n",
              "      <th>duration.1</th>\n",
              "      <th>genres</th>\n",
              "      <th>content_rating</th>\n",
              "      <th>plot_keywords</th>\n",
              "      <th>director_name</th>\n",
              "      <th>actor_1_name</th>\n",
              "      <th>actor_2_name</th>\n",
              "      <th>actor_3_name</th>\n",
              "      <th>cast_total_facebook_likes</th>\n",
              "      <th>budget</th>\n",
              "      <th>imdb_score</th>\n",
              "      <th>gross</th>\n",
              "    </tr>\n",
              "  </thead>\n",
              "  <tbody>\n",
              "    <tr>\n",
              "      <th>2323</th>\n",
              "      <td>Princess Mononoke</td>\n",
              "      <td>1997.0</td>\n",
              "      <td>Color</td>\n",
              "      <td>1.85</td>\n",
              "      <td>134.0</td>\n",
              "      <td>Japanese</td>\n",
              "      <td>Japan</td>\n",
              "      <td>134.0</td>\n",
              "      <td>Adventure|Animation|Fantasy</td>\n",
              "      <td>PG-13</td>\n",
              "      <td>anime|cult film|forest|princess|studio ghibli</td>\n",
              "      <td>Hayao Miyazaki</td>\n",
              "      <td>Minnie Driver</td>\n",
              "      <td>Jada Pinkett Smith</td>\n",
              "      <td>Billy Crudup</td>\n",
              "      <td>2710</td>\n",
              "      <td>2.400000e+09</td>\n",
              "      <td>8.4</td>\n",
              "      <td>2298191.0</td>\n",
              "    </tr>\n",
              "    <tr>\n",
              "      <th>2334</th>\n",
              "      <td>Steamboy</td>\n",
              "      <td>2004.0</td>\n",
              "      <td>Color</td>\n",
              "      <td>1.85</td>\n",
              "      <td>103.0</td>\n",
              "      <td>Japanese</td>\n",
              "      <td>Japan</td>\n",
              "      <td>103.0</td>\n",
              "      <td>Action|Adventure|Animation|Family|Sci-Fi|Thriller</td>\n",
              "      <td>PG-13</td>\n",
              "      <td>19th century|ball|boy|inventor|steam</td>\n",
              "      <td>Katsuhiro Ôtomo</td>\n",
              "      <td>William Hootkins</td>\n",
              "      <td>Robin Atkin Downes</td>\n",
              "      <td>Rosalind Ayres</td>\n",
              "      <td>991</td>\n",
              "      <td>2.127520e+09</td>\n",
              "      <td>6.9</td>\n",
              "      <td>410388.0</td>\n",
              "    </tr>\n",
              "    <tr>\n",
              "      <th>2988</th>\n",
              "      <td>The Host</td>\n",
              "      <td>2006.0</td>\n",
              "      <td>Color</td>\n",
              "      <td>1.85</td>\n",
              "      <td>110.0</td>\n",
              "      <td>Korean</td>\n",
              "      <td>South Korea</td>\n",
              "      <td>110.0</td>\n",
              "      <td>Comedy|Drama|Horror|Sci-Fi</td>\n",
              "      <td>R</td>\n",
              "      <td>daughter|han river|monster|river|seoul</td>\n",
              "      <td>Joon-ho Bong</td>\n",
              "      <td>Doona Bae</td>\n",
              "      <td>Kang-ho Song</td>\n",
              "      <td>Ah-sung Ko</td>\n",
              "      <td>1173</td>\n",
              "      <td>1.221550e+10</td>\n",
              "      <td>7.0</td>\n",
              "      <td>2201412.0</td>\n",
              "    </tr>\n",
              "    <tr>\n",
              "      <th>3005</th>\n",
              "      <td>Fateless</td>\n",
              "      <td>2005.0</td>\n",
              "      <td>Color</td>\n",
              "      <td>2.35</td>\n",
              "      <td>134.0</td>\n",
              "      <td>Hungarian</td>\n",
              "      <td>Hungary</td>\n",
              "      <td>134.0</td>\n",
              "      <td>Drama|Romance|War</td>\n",
              "      <td>R</td>\n",
              "      <td>bus|death|gay slur|hatred|jewish</td>\n",
              "      <td>Lajos Koltai</td>\n",
              "      <td>Marcell Nagy</td>\n",
              "      <td>Péter Fancsikai</td>\n",
              "      <td>Bálint Péntek</td>\n",
              "      <td>11</td>\n",
              "      <td>2.500000e+09</td>\n",
              "      <td>7.1</td>\n",
              "      <td>195888.0</td>\n",
              "    </tr>\n",
              "    <tr>\n",
              "      <th>3423</th>\n",
              "      <td>Akira</td>\n",
              "      <td>1988.0</td>\n",
              "      <td>Color</td>\n",
              "      <td>1.85</td>\n",
              "      <td>124.0</td>\n",
              "      <td>Japanese</td>\n",
              "      <td>Japan</td>\n",
              "      <td>124.0</td>\n",
              "      <td>Action|Animation|Sci-Fi</td>\n",
              "      <td>R</td>\n",
              "      <td>based on manga|biker gang|gifted child|post th...</td>\n",
              "      <td>Katsuhiro Ôtomo</td>\n",
              "      <td>Mitsuo Iwata</td>\n",
              "      <td>Takeshi Kusao</td>\n",
              "      <td>Tesshô Genda</td>\n",
              "      <td>28</td>\n",
              "      <td>1.100000e+09</td>\n",
              "      <td>8.1</td>\n",
              "      <td>439162.0</td>\n",
              "    </tr>\n",
              "    <tr>\n",
              "      <th>3859</th>\n",
              "      <td>Lady Vengeance</td>\n",
              "      <td>2005.0</td>\n",
              "      <td>Color</td>\n",
              "      <td>2.35</td>\n",
              "      <td>112.0</td>\n",
              "      <td>Korean</td>\n",
              "      <td>South Korea</td>\n",
              "      <td>112.0</td>\n",
              "      <td>Crime|Drama</td>\n",
              "      <td>R</td>\n",
              "      <td>cake|christian|lesbian sex|oral sex|pregnant s...</td>\n",
              "      <td>Chan-wook Park</td>\n",
              "      <td>Min-sik Choi</td>\n",
              "      <td>Yeong-ae Lee</td>\n",
              "      <td>Hye-jeong Kang</td>\n",
              "      <td>907</td>\n",
              "      <td>4.200000e+09</td>\n",
              "      <td>7.7</td>\n",
              "      <td>211667.0</td>\n",
              "    </tr>\n",
              "  </tbody>\n",
              "</table>\n",
              "</div>"
            ],
            "text/plain": [
              "             movie_title  title_year  ... imdb_score      gross\n",
              "2323  Princess Mononoke       1997.0  ...        8.4  2298191.0\n",
              "2334           Steamboy       2004.0  ...        6.9   410388.0\n",
              "2988           The Host       2006.0  ...        7.0  2201412.0\n",
              "3005           Fateless       2005.0  ...        7.1   195888.0\n",
              "3423              Akira       1988.0  ...        8.1   439162.0\n",
              "3859     Lady Vengeance       2005.0  ...        7.7   211667.0\n",
              "\n",
              "[6 rows x 19 columns]"
            ]
          },
          "metadata": {
            "tags": []
          },
          "execution_count": 20
        }
      ]
    },
    {
      "cell_type": "code",
      "metadata": {
        "id": "6ZP-sRJKbn8s",
        "colab_type": "code",
        "colab": {}
      },
      "source": [
        "# el dataset anterior no servia porque los datos tenian problemas con la moneda en budget\n",
        "#asi que importamos otro\n",
        "\n",
        "financials = pd.read_csv('https://github.com/JuanPabloMF/datasets-platzi-course/blob/master/datasets/thenumbers.csv?raw=true')"
      ],
      "execution_count": 21,
      "outputs": []
    },
    {
      "cell_type": "code",
      "metadata": {
        "id": "G2VtV13Kcsww",
        "colab_type": "code",
        "colab": {}
      },
      "source": [
        "financials = financials[['movie_title','production_budget','worldwide_gross']]"
      ],
      "execution_count": 22,
      "outputs": []
    },
    {
      "cell_type": "code",
      "metadata": {
        "id": "JaTvN9e4dQ5e",
        "colab_type": "code",
        "colab": {
          "base_uri": "https://localhost:8080/",
          "height": 34
        },
        "outputId": "58541d5f-b393-48bd-87d1-9c8e91bc5040"
      },
      "source": [
        "financials.shape"
      ],
      "execution_count": 23,
      "outputs": [
        {
          "output_type": "execute_result",
          "data": {
            "text/plain": [
              "(4341, 3)"
            ]
          },
          "metadata": {
            "tags": []
          },
          "execution_count": 23
        }
      ]
    },
    {
      "cell_type": "code",
      "metadata": {
        "id": "3hkkt_kodTJv",
        "colab_type": "code",
        "colab": {}
      },
      "source": [
        "movies.shape"
      ],
      "execution_count": null,
      "outputs": []
    },
    {
      "cell_type": "code",
      "metadata": {
        "id": "OBm7QfYkexWe",
        "colab_type": "code",
        "colab": {}
      },
      "source": [
        "movies_num = pd.concat([movies_num, movies['movie_title']], axis = 1)"
      ],
      "execution_count": 24,
      "outputs": []
    },
    {
      "cell_type": "code",
      "metadata": {
        "id": "Qi6_NMHafyQg",
        "colab_type": "code",
        "colab": {}
      },
      "source": [
        "#antes de hacer el joing entre financials y movies_num debemos eliminar duplicados sino no nos dejará hacer el JOIN\n",
        "movies_num = movies_num.loc[:,~movies_num.columns.duplicated()] "
      ],
      "execution_count": 25,
      "outputs": []
    },
    {
      "cell_type": "code",
      "metadata": {
        "id": "eVmaF2lffSzv",
        "colab_type": "code",
        "colab": {}
      },
      "source": [
        "movies_v2 = pd.merge(financials,movies_num,on='movie_title',how='left')"
      ],
      "execution_count": 30,
      "outputs": []
    },
    {
      "cell_type": "code",
      "metadata": {
        "id": "OtaOcbVGS2bb",
        "colab_type": "code",
        "colab": {
          "base_uri": "https://localhost:8080/",
          "height": 34
        },
        "outputId": "a90984f3-2720-4009-b9ec-58f76d1b53e8"
      },
      "source": [
        "movies_v2.shape"
      ],
      "execution_count": 31,
      "outputs": [
        {
          "output_type": "execute_result",
          "data": {
            "text/plain": [
              "(4385, 11)"
            ]
          },
          "metadata": {
            "tags": []
          },
          "execution_count": 31
        }
      ]
    },
    {
      "cell_type": "code",
      "metadata": {
        "id": "ECP7CjsOTswY",
        "colab_type": "code",
        "colab": {
          "base_uri": "https://localhost:8080/",
          "height": 1000
        },
        "outputId": "c38f8927-3cb3-4292-d395-c93bc03c002f"
      },
      "source": [
        "help(pd.Series.value_counts)"
      ],
      "execution_count": 33,
      "outputs": [
        {
          "output_type": "stream",
          "text": [
            "Help on function value_counts in module pandas.core.base:\n",
            "\n",
            "value_counts(self, normalize=False, sort=True, ascending=False, bins=None, dropna=True)\n",
            "    Return a Series containing counts of unique values.\n",
            "    \n",
            "    The resulting object will be in descending order so that the\n",
            "    first element is the most frequently-occurring element.\n",
            "    Excludes NA values by default.\n",
            "    \n",
            "    Parameters\n",
            "    ----------\n",
            "    normalize : bool, default False\n",
            "        If True then the object returned will contain the relative\n",
            "        frequencies of the unique values.\n",
            "    sort : bool, default True\n",
            "        Sort by frequencies.\n",
            "    ascending : bool, default False\n",
            "        Sort in ascending order.\n",
            "    bins : int, optional\n",
            "        Rather than count values, group them into half-open bins,\n",
            "        a convenience for ``pd.cut``, only works with numeric data.\n",
            "    dropna : bool, default True\n",
            "        Don't include counts of NaN.\n",
            "    \n",
            "    Returns\n",
            "    -------\n",
            "    Series\n",
            "    \n",
            "    See Also\n",
            "    --------\n",
            "    Series.count: Number of non-NA elements in a Series.\n",
            "    DataFrame.count: Number of non-NA elements in a DataFrame.\n",
            "    \n",
            "    Examples\n",
            "    --------\n",
            "    >>> index = pd.Index([3, 1, 2, 3, 4, np.nan])\n",
            "    >>> index.value_counts()\n",
            "    3.0    2\n",
            "    4.0    1\n",
            "    2.0    1\n",
            "    1.0    1\n",
            "    dtype: int64\n",
            "    \n",
            "    With `normalize` set to `True`, returns the relative frequency by\n",
            "    dividing all values by the sum of values.\n",
            "    \n",
            "    >>> s = pd.Series([3, 1, 2, 3, 4, np.nan])\n",
            "    >>> s.value_counts(normalize=True)\n",
            "    3.0    0.4\n",
            "    4.0    0.2\n",
            "    2.0    0.2\n",
            "    1.0    0.2\n",
            "    dtype: float64\n",
            "    \n",
            "    **bins**\n",
            "    \n",
            "    Bins can be useful for going from a continuous variable to a\n",
            "    categorical variable; instead of counting unique\n",
            "    apparitions of values, divide the index in the specified\n",
            "    number of half-open bins.\n",
            "    \n",
            "    >>> s.value_counts(bins=3)\n",
            "    (2.0, 3.0]      2\n",
            "    (0.996, 2.0]    2\n",
            "    (3.0, 4.0]      1\n",
            "    dtype: int64\n",
            "    \n",
            "    **dropna**\n",
            "    \n",
            "    With `dropna` set to `False` we can also see NaN index values.\n",
            "    \n",
            "    >>> s.value_counts(dropna=False)\n",
            "    3.0    2\n",
            "    NaN    1\n",
            "    4.0    1\n",
            "    2.0    1\n",
            "    1.0    1\n",
            "    dtype: int64\n",
            "\n"
          ],
          "name": "stdout"
        }
      ]
    },
    {
      "cell_type": "code",
      "metadata": {
        "id": "7Y8W1anXTCUH",
        "colab_type": "code",
        "colab": {}
      },
      "source": [
        "movies_v2.notnull().apply(pd.Series.value_counts) \n",
        "#al hacerle apply con el value_counts, le estamos pidiendo que nos cuente cuántos notnull están en True o False en cada columna"
      ],
      "execution_count": null,
      "outputs": []
    },
    {
      "cell_type": "code",
      "metadata": {
        "id": "NAnNyOVCUfRA",
        "colab_type": "code",
        "colab": {
          "base_uri": "https://localhost:8080/",
          "height": 111
        },
        "outputId": "65a81e50-df34-4e73-8f18-3bff64c25a20"
      },
      "source": [
        "(movies_v2 != 0).apply(pd.Series.value_counts) #contamos cuántas columnas están en cero (False) y cuantas son diferentes de 0 (True)"
      ],
      "execution_count": 35,
      "outputs": [
        {
          "output_type": "execute_result",
          "data": {
            "text/html": [
              "<div>\n",
              "<style scoped>\n",
              "    .dataframe tbody tr th:only-of-type {\n",
              "        vertical-align: middle;\n",
              "    }\n",
              "\n",
              "    .dataframe tbody tr th {\n",
              "        vertical-align: top;\n",
              "    }\n",
              "\n",
              "    .dataframe thead th {\n",
              "        text-align: right;\n",
              "    }\n",
              "</style>\n",
              "<table border=\"1\" class=\"dataframe\">\n",
              "  <thead>\n",
              "    <tr style=\"text-align: right;\">\n",
              "      <th></th>\n",
              "      <th>movie_title</th>\n",
              "      <th>production_budget</th>\n",
              "      <th>worldwide_gross</th>\n",
              "      <th>title_year</th>\n",
              "      <th>aspect_ratio</th>\n",
              "      <th>duration</th>\n",
              "      <th>duration.1</th>\n",
              "      <th>cast_total_facebook_likes</th>\n",
              "      <th>budget</th>\n",
              "      <th>imdb_score</th>\n",
              "      <th>gross</th>\n",
              "    </tr>\n",
              "  </thead>\n",
              "  <tbody>\n",
              "    <tr>\n",
              "      <th>False</th>\n",
              "      <td>NaN</td>\n",
              "      <td>NaN</td>\n",
              "      <td>281</td>\n",
              "      <td>NaN</td>\n",
              "      <td>NaN</td>\n",
              "      <td>NaN</td>\n",
              "      <td>NaN</td>\n",
              "      <td>27</td>\n",
              "      <td>NaN</td>\n",
              "      <td>NaN</td>\n",
              "      <td>NaN</td>\n",
              "    </tr>\n",
              "    <tr>\n",
              "      <th>True</th>\n",
              "      <td>4385.0</td>\n",
              "      <td>4385.0</td>\n",
              "      <td>4104</td>\n",
              "      <td>4385.0</td>\n",
              "      <td>4385.0</td>\n",
              "      <td>4385.0</td>\n",
              "      <td>4385.0</td>\n",
              "      <td>4358</td>\n",
              "      <td>4385.0</td>\n",
              "      <td>4385.0</td>\n",
              "      <td>4385.0</td>\n",
              "    </tr>\n",
              "  </tbody>\n",
              "</table>\n",
              "</div>"
            ],
            "text/plain": [
              "       movie_title  production_budget  ...  imdb_score   gross\n",
              "False          NaN                NaN  ...         NaN     NaN\n",
              "True        4385.0             4385.0  ...      4385.0  4385.0\n",
              "\n",
              "[2 rows x 11 columns]"
            ]
          },
          "metadata": {
            "tags": []
          },
          "execution_count": 35
        }
      ]
    },
    {
      "cell_type": "code",
      "metadata": {
        "id": "G2zt_zqHU2PP",
        "colab_type": "code",
        "colab": {}
      },
      "source": [
        "available = ((movies_v2 != 0) & (movies_v2.notnull()))"
      ],
      "execution_count": 36,
      "outputs": []
    },
    {
      "cell_type": "code",
      "metadata": {
        "id": "xr18p1l_VEgg",
        "colab_type": "code",
        "colab": {
          "base_uri": "https://localhost:8080/",
          "height": 68
        },
        "outputId": "2f865cbd-f797-4254-f03d-20be53c25fd3"
      },
      "source": [
        "available.all(axis=1).value_counts()\n",
        "#False nos dice cuántas filas tenemos con valores falsos"
      ],
      "execution_count": 40,
      "outputs": [
        {
          "output_type": "execute_result",
          "data": {
            "text/plain": [
              "True     3408\n",
              "False     977\n",
              "dtype: int64"
            ]
          },
          "metadata": {
            "tags": []
          },
          "execution_count": 40
        }
      ]
    },
    {
      "cell_type": "code",
      "metadata": {
        "id": "qciaoa_9VXis",
        "colab_type": "code",
        "colab": {}
      },
      "source": [
        "mask = available['worldwide_gross'] #guardamos en mask qué filas tienen el dato disponible (True) o no (False)"
      ],
      "execution_count": 41,
      "outputs": []
    },
    {
      "cell_type": "code",
      "metadata": {
        "id": "854bm2sxV6DI",
        "colab_type": "code",
        "colab": {
          "base_uri": "https://localhost:8080/",
          "height": 221
        },
        "outputId": "c8eba97f-6256-4990-e38a-21fd03e2a3e0"
      },
      "source": [
        "mask #mostramos las filas donde nuestra variable objetivo worldwide_gross está disponible"
      ],
      "execution_count": 42,
      "outputs": [
        {
          "output_type": "execute_result",
          "data": {
            "text/plain": [
              "0        True\n",
              "1        True\n",
              "2        True\n",
              "3        True\n",
              "4        True\n",
              "        ...  \n",
              "4380     True\n",
              "4381    False\n",
              "4382     True\n",
              "4383    False\n",
              "4384     True\n",
              "Name: worldwide_gross, Length: 4385, dtype: bool"
            ]
          },
          "metadata": {
            "tags": []
          },
          "execution_count": 42
        }
      ]
    },
    {
      "cell_type": "code",
      "metadata": {
        "id": "iTXpiLIQWLIn",
        "colab_type": "code",
        "colab": {}
      },
      "source": [
        "movies_v2 = movies_v2[mask] #actualizamsos nuestro dataframe sólo con los registros donde worldwide_gross está disponible"
      ],
      "execution_count": 44,
      "outputs": []
    },
    {
      "cell_type": "code",
      "metadata": {
        "id": "OK2WJa8PWj24",
        "colab_type": "code",
        "colab": {
          "base_uri": "https://localhost:8080/",
          "height": 51
        },
        "outputId": "95c1e449-caee-4c97-f235-7d7e518d8733"
      },
      "source": [
        "((movies_v2 != 0) & (movies_v2.notnull())).worldwide_gross.value_counts()\n",
        "#que tantos valores completos tenemos que no estén ni en null ni en cero\n",
        "#veremos que a este punto ya no tenemos False en nuestro dataframe, por tanto ya quedó limpio"
      ],
      "execution_count": 45,
      "outputs": [
        {
          "output_type": "execute_result",
          "data": {
            "text/plain": [
              "True    4104\n",
              "Name: worldwide_gross, dtype: int64"
            ]
          },
          "metadata": {
            "tags": []
          },
          "execution_count": 45
        }
      ]
    },
    {
      "cell_type": "code",
      "metadata": {
        "id": "3cTOk_dVXGeQ",
        "colab_type": "code",
        "colab": {}
      },
      "source": [
        "from sklearn.impute import SimpleImputer #importando la clase Imputer de Sklearn\n",
        "imputer = SimpleImputer(missing_values=np.nan, strategy='mean') #instanciamos la clase, reconociendo cuales valores son faltantes en las demas columnas \"Nan\"\n",
        "#con strategy = 'mean' estamos tratando a los datos faltantes, poniendoles un valor promedio"
      ],
      "execution_count": 55,
      "outputs": []
    },
    {
      "cell_type": "code",
      "metadata": {
        "id": "J86fNQ5Odiso",
        "colab_type": "code",
        "colab": {
          "base_uri": "https://localhost:8080/",
          "height": 592
        },
        "outputId": "d182943e-fab7-451b-bf4b-b0a044ca3f46"
      },
      "source": [
        "movies_v2 #verificamos cómo está el dataset antes de empezar a trabajar con datos númericos (estadistica para el  modelo)"
      ],
      "execution_count": 56,
      "outputs": [
        {
          "output_type": "execute_result",
          "data": {
            "text/html": [
              "<div>\n",
              "<style scoped>\n",
              "    .dataframe tbody tr th:only-of-type {\n",
              "        vertical-align: middle;\n",
              "    }\n",
              "\n",
              "    .dataframe tbody tr th {\n",
              "        vertical-align: top;\n",
              "    }\n",
              "\n",
              "    .dataframe thead th {\n",
              "        text-align: right;\n",
              "    }\n",
              "</style>\n",
              "<table border=\"1\" class=\"dataframe\">\n",
              "  <thead>\n",
              "    <tr style=\"text-align: right;\">\n",
              "      <th></th>\n",
              "      <th>movie_title</th>\n",
              "      <th>production_budget</th>\n",
              "      <th>worldwide_gross</th>\n",
              "      <th>title_year</th>\n",
              "      <th>aspect_ratio</th>\n",
              "      <th>duration</th>\n",
              "      <th>duration.1</th>\n",
              "      <th>cast_total_facebook_likes</th>\n",
              "      <th>budget</th>\n",
              "      <th>imdb_score</th>\n",
              "      <th>gross</th>\n",
              "    </tr>\n",
              "  </thead>\n",
              "  <tbody>\n",
              "    <tr>\n",
              "      <th>0</th>\n",
              "      <td>Avatar</td>\n",
              "      <td>425000000</td>\n",
              "      <td>2783918982</td>\n",
              "      <td>2009.0</td>\n",
              "      <td>1.78</td>\n",
              "      <td>178.0</td>\n",
              "      <td>178.0</td>\n",
              "      <td>4834</td>\n",
              "      <td>237000000.0</td>\n",
              "      <td>7.9</td>\n",
              "      <td>760505847.0</td>\n",
              "    </tr>\n",
              "    <tr>\n",
              "      <th>1</th>\n",
              "      <td>Star Wars: Episode VII - The Force Awakens    ...</td>\n",
              "      <td>306000000</td>\n",
              "      <td>2058662225</td>\n",
              "      <td>NaN</td>\n",
              "      <td>NaN</td>\n",
              "      <td>NaN</td>\n",
              "      <td>NaN</td>\n",
              "      <td>143</td>\n",
              "      <td>NaN</td>\n",
              "      <td>7.1</td>\n",
              "      <td>NaN</td>\n",
              "    </tr>\n",
              "    <tr>\n",
              "      <th>2</th>\n",
              "      <td>Pirates of the Caribbean: At World's End</td>\n",
              "      <td>300000000</td>\n",
              "      <td>963420425</td>\n",
              "      <td>2007.0</td>\n",
              "      <td>2.35</td>\n",
              "      <td>169.0</td>\n",
              "      <td>169.0</td>\n",
              "      <td>48350</td>\n",
              "      <td>300000000.0</td>\n",
              "      <td>7.1</td>\n",
              "      <td>309404152.0</td>\n",
              "    </tr>\n",
              "    <tr>\n",
              "      <th>3</th>\n",
              "      <td>Spectre</td>\n",
              "      <td>300000000</td>\n",
              "      <td>879620923</td>\n",
              "      <td>2015.0</td>\n",
              "      <td>2.35</td>\n",
              "      <td>148.0</td>\n",
              "      <td>148.0</td>\n",
              "      <td>11700</td>\n",
              "      <td>245000000.0</td>\n",
              "      <td>6.8</td>\n",
              "      <td>200074175.0</td>\n",
              "    </tr>\n",
              "    <tr>\n",
              "      <th>4</th>\n",
              "      <td>The Dark Knight Rises</td>\n",
              "      <td>275000000</td>\n",
              "      <td>1084439099</td>\n",
              "      <td>2012.0</td>\n",
              "      <td>2.35</td>\n",
              "      <td>164.0</td>\n",
              "      <td>164.0</td>\n",
              "      <td>106759</td>\n",
              "      <td>250000000.0</td>\n",
              "      <td>8.5</td>\n",
              "      <td>448130642.0</td>\n",
              "    </tr>\n",
              "    <tr>\n",
              "      <th>...</th>\n",
              "      <td>...</td>\n",
              "      <td>...</td>\n",
              "      <td>...</td>\n",
              "      <td>...</td>\n",
              "      <td>...</td>\n",
              "      <td>...</td>\n",
              "      <td>...</td>\n",
              "      <td>...</td>\n",
              "      <td>...</td>\n",
              "      <td>...</td>\n",
              "      <td>...</td>\n",
              "    </tr>\n",
              "    <tr>\n",
              "      <th>4378</th>\n",
              "      <td>Primer</td>\n",
              "      <td>7000</td>\n",
              "      <td>841926</td>\n",
              "      <td>2004.0</td>\n",
              "      <td>1.85</td>\n",
              "      <td>77.0</td>\n",
              "      <td>77.0</td>\n",
              "      <td>368</td>\n",
              "      <td>7000.0</td>\n",
              "      <td>7.0</td>\n",
              "      <td>424760.0</td>\n",
              "    </tr>\n",
              "    <tr>\n",
              "      <th>4379</th>\n",
              "      <td>Cavite</td>\n",
              "      <td>7000</td>\n",
              "      <td>71644</td>\n",
              "      <td>2005.0</td>\n",
              "      <td>NaN</td>\n",
              "      <td>80.0</td>\n",
              "      <td>80.0</td>\n",
              "      <td>0</td>\n",
              "      <td>7000.0</td>\n",
              "      <td>6.3</td>\n",
              "      <td>70071.0</td>\n",
              "    </tr>\n",
              "    <tr>\n",
              "      <th>4380</th>\n",
              "      <td>The Mongol King</td>\n",
              "      <td>7000</td>\n",
              "      <td>900</td>\n",
              "      <td>2005.0</td>\n",
              "      <td>NaN</td>\n",
              "      <td>84.0</td>\n",
              "      <td>84.0</td>\n",
              "      <td>93</td>\n",
              "      <td>3250.0</td>\n",
              "      <td>7.8</td>\n",
              "      <td>NaN</td>\n",
              "    </tr>\n",
              "    <tr>\n",
              "      <th>4382</th>\n",
              "      <td>Shanghai Calling</td>\n",
              "      <td>3967</td>\n",
              "      <td>10443</td>\n",
              "      <td>2012.0</td>\n",
              "      <td>2.35</td>\n",
              "      <td>100.0</td>\n",
              "      <td>100.0</td>\n",
              "      <td>2386</td>\n",
              "      <td>NaN</td>\n",
              "      <td>6.3</td>\n",
              "      <td>10443.0</td>\n",
              "    </tr>\n",
              "    <tr>\n",
              "      <th>4384</th>\n",
              "      <td>My Date with Drew</td>\n",
              "      <td>1100</td>\n",
              "      <td>181041</td>\n",
              "      <td>2004.0</td>\n",
              "      <td>1.85</td>\n",
              "      <td>90.0</td>\n",
              "      <td>90.0</td>\n",
              "      <td>163</td>\n",
              "      <td>1100.0</td>\n",
              "      <td>6.6</td>\n",
              "      <td>85222.0</td>\n",
              "    </tr>\n",
              "  </tbody>\n",
              "</table>\n",
              "<p>4104 rows × 11 columns</p>\n",
              "</div>"
            ],
            "text/plain": [
              "                                            movie_title  ...        gross\n",
              "0                                               Avatar   ...  760505847.0\n",
              "1     Star Wars: Episode VII - The Force Awakens    ...  ...          NaN\n",
              "2             Pirates of the Caribbean: At World's End   ...  309404152.0\n",
              "3                                              Spectre   ...  200074175.0\n",
              "4                                The Dark Knight Rises   ...  448130642.0\n",
              "...                                                 ...  ...          ...\n",
              "4378                                            Primer   ...     424760.0\n",
              "4379                                            Cavite   ...      70071.0\n",
              "4380                                   The Mongol King   ...          NaN\n",
              "4382                                  Shanghai Calling   ...      10443.0\n",
              "4384                                 My Date with Drew   ...      85222.0\n",
              "\n",
              "[4104 rows x 11 columns]"
            ]
          },
          "metadata": {
            "tags": []
          },
          "execution_count": 56
        }
      ]
    },
    {
      "cell_type": "code",
      "metadata": {
        "id": "DwD4-pLYdsjq",
        "colab_type": "code",
        "colab": {}
      },
      "source": [
        "#quitamos las columnas 'movie_title'  porque es de texto (necesitamos solo las numericas) \n",
        "movies_v2 = movies_v2.drop('movie_title', axis=1)"
      ],
      "execution_count": 57,
      "outputs": []
    },
    {
      "cell_type": "code",
      "metadata": {
        "id": "5tSY6P1VeHAk",
        "colab_type": "code",
        "colab": {
          "base_uri": "https://localhost:8080/",
          "height": 323
        },
        "outputId": "7bb389db-0902-403d-90be-3ea6212e3459"
      },
      "source": [
        "#y quitamos también duration que está duplicada\n",
        "movies_v2 = movies_v2.drop('duration', axis=1)"
      ],
      "execution_count": 64,
      "outputs": [
        {
          "output_type": "error",
          "ename": "KeyError",
          "evalue": "ignored",
          "traceback": [
            "\u001b[0;31m---------------------------------------------------------------------------\u001b[0m",
            "\u001b[0;31mKeyError\u001b[0m                                  Traceback (most recent call last)",
            "\u001b[0;32m<ipython-input-64-0ebe293f50a6>\u001b[0m in \u001b[0;36m<module>\u001b[0;34m()\u001b[0m\n\u001b[1;32m      1\u001b[0m \u001b[0;31m#y quitamos también duration que está duplicada\u001b[0m\u001b[0;34m\u001b[0m\u001b[0;34m\u001b[0m\u001b[0;34m\u001b[0m\u001b[0m\n\u001b[0;32m----> 2\u001b[0;31m \u001b[0mmovies_v2\u001b[0m \u001b[0;34m=\u001b[0m \u001b[0mmovies_v2\u001b[0m\u001b[0;34m.\u001b[0m\u001b[0mdrop\u001b[0m\u001b[0;34m(\u001b[0m\u001b[0;34m'duration'\u001b[0m\u001b[0;34m,\u001b[0m \u001b[0maxis\u001b[0m\u001b[0;34m=\u001b[0m\u001b[0;36m1\u001b[0m\u001b[0;34m)\u001b[0m\u001b[0;34m\u001b[0m\u001b[0;34m\u001b[0m\u001b[0m\n\u001b[0m",
            "\u001b[0;32m/usr/local/lib/python3.6/dist-packages/pandas/core/frame.py\u001b[0m in \u001b[0;36mdrop\u001b[0;34m(self, labels, axis, index, columns, level, inplace, errors)\u001b[0m\n\u001b[1;32m   3995\u001b[0m             \u001b[0mlevel\u001b[0m\u001b[0;34m=\u001b[0m\u001b[0mlevel\u001b[0m\u001b[0;34m,\u001b[0m\u001b[0;34m\u001b[0m\u001b[0;34m\u001b[0m\u001b[0m\n\u001b[1;32m   3996\u001b[0m             \u001b[0minplace\u001b[0m\u001b[0;34m=\u001b[0m\u001b[0minplace\u001b[0m\u001b[0;34m,\u001b[0m\u001b[0;34m\u001b[0m\u001b[0;34m\u001b[0m\u001b[0m\n\u001b[0;32m-> 3997\u001b[0;31m             \u001b[0merrors\u001b[0m\u001b[0;34m=\u001b[0m\u001b[0merrors\u001b[0m\u001b[0;34m,\u001b[0m\u001b[0;34m\u001b[0m\u001b[0;34m\u001b[0m\u001b[0m\n\u001b[0m\u001b[1;32m   3998\u001b[0m         )\n\u001b[1;32m   3999\u001b[0m \u001b[0;34m\u001b[0m\u001b[0m\n",
            "\u001b[0;32m/usr/local/lib/python3.6/dist-packages/pandas/core/generic.py\u001b[0m in \u001b[0;36mdrop\u001b[0;34m(self, labels, axis, index, columns, level, inplace, errors)\u001b[0m\n\u001b[1;32m   3934\u001b[0m         \u001b[0;32mfor\u001b[0m \u001b[0maxis\u001b[0m\u001b[0;34m,\u001b[0m \u001b[0mlabels\u001b[0m \u001b[0;32min\u001b[0m \u001b[0maxes\u001b[0m\u001b[0;34m.\u001b[0m\u001b[0mitems\u001b[0m\u001b[0;34m(\u001b[0m\u001b[0;34m)\u001b[0m\u001b[0;34m:\u001b[0m\u001b[0;34m\u001b[0m\u001b[0;34m\u001b[0m\u001b[0m\n\u001b[1;32m   3935\u001b[0m             \u001b[0;32mif\u001b[0m \u001b[0mlabels\u001b[0m \u001b[0;32mis\u001b[0m \u001b[0;32mnot\u001b[0m \u001b[0;32mNone\u001b[0m\u001b[0;34m:\u001b[0m\u001b[0;34m\u001b[0m\u001b[0;34m\u001b[0m\u001b[0m\n\u001b[0;32m-> 3936\u001b[0;31m                 \u001b[0mobj\u001b[0m \u001b[0;34m=\u001b[0m \u001b[0mobj\u001b[0m\u001b[0;34m.\u001b[0m\u001b[0m_drop_axis\u001b[0m\u001b[0;34m(\u001b[0m\u001b[0mlabels\u001b[0m\u001b[0;34m,\u001b[0m \u001b[0maxis\u001b[0m\u001b[0;34m,\u001b[0m \u001b[0mlevel\u001b[0m\u001b[0;34m=\u001b[0m\u001b[0mlevel\u001b[0m\u001b[0;34m,\u001b[0m \u001b[0merrors\u001b[0m\u001b[0;34m=\u001b[0m\u001b[0merrors\u001b[0m\u001b[0;34m)\u001b[0m\u001b[0;34m\u001b[0m\u001b[0;34m\u001b[0m\u001b[0m\n\u001b[0m\u001b[1;32m   3937\u001b[0m \u001b[0;34m\u001b[0m\u001b[0m\n\u001b[1;32m   3938\u001b[0m         \u001b[0;32mif\u001b[0m \u001b[0minplace\u001b[0m\u001b[0;34m:\u001b[0m\u001b[0;34m\u001b[0m\u001b[0;34m\u001b[0m\u001b[0m\n",
            "\u001b[0;32m/usr/local/lib/python3.6/dist-packages/pandas/core/generic.py\u001b[0m in \u001b[0;36m_drop_axis\u001b[0;34m(self, labels, axis, level, errors)\u001b[0m\n\u001b[1;32m   3968\u001b[0m                 \u001b[0mnew_axis\u001b[0m \u001b[0;34m=\u001b[0m \u001b[0maxis\u001b[0m\u001b[0;34m.\u001b[0m\u001b[0mdrop\u001b[0m\u001b[0;34m(\u001b[0m\u001b[0mlabels\u001b[0m\u001b[0;34m,\u001b[0m \u001b[0mlevel\u001b[0m\u001b[0;34m=\u001b[0m\u001b[0mlevel\u001b[0m\u001b[0;34m,\u001b[0m \u001b[0merrors\u001b[0m\u001b[0;34m=\u001b[0m\u001b[0merrors\u001b[0m\u001b[0;34m)\u001b[0m\u001b[0;34m\u001b[0m\u001b[0;34m\u001b[0m\u001b[0m\n\u001b[1;32m   3969\u001b[0m             \u001b[0;32melse\u001b[0m\u001b[0;34m:\u001b[0m\u001b[0;34m\u001b[0m\u001b[0;34m\u001b[0m\u001b[0m\n\u001b[0;32m-> 3970\u001b[0;31m                 \u001b[0mnew_axis\u001b[0m \u001b[0;34m=\u001b[0m \u001b[0maxis\u001b[0m\u001b[0;34m.\u001b[0m\u001b[0mdrop\u001b[0m\u001b[0;34m(\u001b[0m\u001b[0mlabels\u001b[0m\u001b[0;34m,\u001b[0m \u001b[0merrors\u001b[0m\u001b[0;34m=\u001b[0m\u001b[0merrors\u001b[0m\u001b[0;34m)\u001b[0m\u001b[0;34m\u001b[0m\u001b[0;34m\u001b[0m\u001b[0m\n\u001b[0m\u001b[1;32m   3971\u001b[0m             \u001b[0mresult\u001b[0m \u001b[0;34m=\u001b[0m \u001b[0mself\u001b[0m\u001b[0;34m.\u001b[0m\u001b[0mreindex\u001b[0m\u001b[0;34m(\u001b[0m\u001b[0;34m**\u001b[0m\u001b[0;34m{\u001b[0m\u001b[0maxis_name\u001b[0m\u001b[0;34m:\u001b[0m \u001b[0mnew_axis\u001b[0m\u001b[0;34m}\u001b[0m\u001b[0;34m)\u001b[0m\u001b[0;34m\u001b[0m\u001b[0;34m\u001b[0m\u001b[0m\n\u001b[1;32m   3972\u001b[0m \u001b[0;34m\u001b[0m\u001b[0m\n",
            "\u001b[0;32m/usr/local/lib/python3.6/dist-packages/pandas/core/indexes/base.py\u001b[0m in \u001b[0;36mdrop\u001b[0;34m(self, labels, errors)\u001b[0m\n\u001b[1;32m   5016\u001b[0m         \u001b[0;32mif\u001b[0m \u001b[0mmask\u001b[0m\u001b[0;34m.\u001b[0m\u001b[0many\u001b[0m\u001b[0;34m(\u001b[0m\u001b[0;34m)\u001b[0m\u001b[0;34m:\u001b[0m\u001b[0;34m\u001b[0m\u001b[0;34m\u001b[0m\u001b[0m\n\u001b[1;32m   5017\u001b[0m             \u001b[0;32mif\u001b[0m \u001b[0merrors\u001b[0m \u001b[0;34m!=\u001b[0m \u001b[0;34m\"ignore\"\u001b[0m\u001b[0;34m:\u001b[0m\u001b[0;34m\u001b[0m\u001b[0;34m\u001b[0m\u001b[0m\n\u001b[0;32m-> 5018\u001b[0;31m                 \u001b[0;32mraise\u001b[0m \u001b[0mKeyError\u001b[0m\u001b[0;34m(\u001b[0m\u001b[0;34mf\"{labels[mask]} not found in axis\"\u001b[0m\u001b[0;34m)\u001b[0m\u001b[0;34m\u001b[0m\u001b[0;34m\u001b[0m\u001b[0m\n\u001b[0m\u001b[1;32m   5019\u001b[0m             \u001b[0mindexer\u001b[0m \u001b[0;34m=\u001b[0m \u001b[0mindexer\u001b[0m\u001b[0;34m[\u001b[0m\u001b[0;34m~\u001b[0m\u001b[0mmask\u001b[0m\u001b[0;34m]\u001b[0m\u001b[0;34m\u001b[0m\u001b[0;34m\u001b[0m\u001b[0m\n\u001b[1;32m   5020\u001b[0m         \u001b[0;32mreturn\u001b[0m \u001b[0mself\u001b[0m\u001b[0;34m.\u001b[0m\u001b[0mdelete\u001b[0m\u001b[0;34m(\u001b[0m\u001b[0mindexer\u001b[0m\u001b[0;34m)\u001b[0m\u001b[0;34m\u001b[0m\u001b[0;34m\u001b[0m\u001b[0m\n",
            "\u001b[0;31mKeyError\u001b[0m: \"['duration'] not found in axis\""
          ]
        }
      ]
    },
    {
      "cell_type": "code",
      "metadata": {
        "id": "UD11TDg-fYjN",
        "colab_type": "code",
        "colab": {
          "base_uri": "https://localhost:8080/",
          "height": 238
        },
        "outputId": "780127db-3359-421c-aad9-ab4b5621b97b"
      },
      "source": [
        "movies_v2.values"
      ],
      "execution_count": 67,
      "outputs": [
        {
          "output_type": "execute_result",
          "data": {
            "text/plain": [
              "array([[4.25000000e+08, 2.78391898e+09, 2.00900000e+03, ...,\n",
              "        2.37000000e+08, 7.90000000e+00, 7.60505847e+08],\n",
              "       [3.06000000e+08, 2.05866222e+09,            nan, ...,\n",
              "                   nan, 7.10000000e+00,            nan],\n",
              "       [3.00000000e+08, 9.63420425e+08, 2.00700000e+03, ...,\n",
              "        3.00000000e+08, 7.10000000e+00, 3.09404152e+08],\n",
              "       ...,\n",
              "       [7.00000000e+03, 9.00000000e+02, 2.00500000e+03, ...,\n",
              "        3.25000000e+03, 7.80000000e+00,            nan],\n",
              "       [3.96700000e+03, 1.04430000e+04, 2.01200000e+03, ...,\n",
              "                   nan, 6.30000000e+00, 1.04430000e+04],\n",
              "       [1.10000000e+03, 1.81041000e+05, 2.00400000e+03, ...,\n",
              "        1.10000000e+03, 6.60000000e+00, 8.52220000e+04]])"
            ]
          },
          "metadata": {
            "tags": []
          },
          "execution_count": 67
        }
      ]
    },
    {
      "cell_type": "code",
      "metadata": {
        "id": "GUttN_mjdEnW",
        "colab_type": "code",
        "colab": {}
      },
      "source": [
        "#reemplazando los datos con el imputer (reemplaza los Nan que hayan en movies_v2)\n",
        "values = imputer.fit_transform(movies_v2)"
      ],
      "execution_count": 65,
      "outputs": []
    },
    {
      "cell_type": "code",
      "metadata": {
        "id": "kVXjB4WMfHD4",
        "colab_type": "code",
        "colab": {
          "base_uri": "https://localhost:8080/",
          "height": 238
        },
        "outputId": "4d1db5a0-a6a7-4113-a98a-274c67524578"
      },
      "source": [
        "values\n",
        "#nos entrega un arrya de numpy"
      ],
      "execution_count": 66,
      "outputs": [
        {
          "output_type": "execute_result",
          "data": {
            "text/plain": [
              "array([[4.25000000e+08, 2.78391898e+09, 2.00900000e+03, ...,\n",
              "        2.37000000e+08, 7.90000000e+00, 7.60505847e+08],\n",
              "       [3.06000000e+08, 2.05866222e+09, 2.00213073e+03, ...,\n",
              "        4.04553863e+07, 7.10000000e+00, 4.83193329e+07],\n",
              "       [3.00000000e+08, 9.63420425e+08, 2.00700000e+03, ...,\n",
              "        3.00000000e+08, 7.10000000e+00, 3.09404152e+08],\n",
              "       ...,\n",
              "       [7.00000000e+03, 9.00000000e+02, 2.00500000e+03, ...,\n",
              "        3.25000000e+03, 7.80000000e+00, 4.83193329e+07],\n",
              "       [3.96700000e+03, 1.04430000e+04, 2.01200000e+03, ...,\n",
              "        4.04553863e+07, 6.30000000e+00, 1.04430000e+04],\n",
              "       [1.10000000e+03, 1.81041000e+05, 2.00400000e+03, ...,\n",
              "        1.10000000e+03, 6.60000000e+00, 8.52220000e+04]])"
            ]
          },
          "metadata": {
            "tags": []
          },
          "execution_count": 66
        }
      ]
    },
    {
      "cell_type": "code",
      "metadata": {
        "id": "u_stFDfFfhtr",
        "colab_type": "code",
        "colab": {
          "base_uri": "https://localhost:8080/",
          "height": 419
        },
        "outputId": "825439bc-30a4-47d5-aa03-c3725a018a8c"
      },
      "source": [
        "#llevamos el arraya  un dataframe\n",
        "x = pd.DataFrame(values)\n",
        "x"
      ],
      "execution_count": 70,
      "outputs": [
        {
          "output_type": "execute_result",
          "data": {
            "text/html": [
              "<div>\n",
              "<style scoped>\n",
              "    .dataframe tbody tr th:only-of-type {\n",
              "        vertical-align: middle;\n",
              "    }\n",
              "\n",
              "    .dataframe tbody tr th {\n",
              "        vertical-align: top;\n",
              "    }\n",
              "\n",
              "    .dataframe thead th {\n",
              "        text-align: right;\n",
              "    }\n",
              "</style>\n",
              "<table border=\"1\" class=\"dataframe\">\n",
              "  <thead>\n",
              "    <tr style=\"text-align: right;\">\n",
              "      <th></th>\n",
              "      <th>0</th>\n",
              "      <th>1</th>\n",
              "      <th>2</th>\n",
              "      <th>3</th>\n",
              "      <th>4</th>\n",
              "      <th>5</th>\n",
              "      <th>6</th>\n",
              "      <th>7</th>\n",
              "      <th>8</th>\n",
              "    </tr>\n",
              "  </thead>\n",
              "  <tbody>\n",
              "    <tr>\n",
              "      <th>0</th>\n",
              "      <td>425000000.0</td>\n",
              "      <td>2.783919e+09</td>\n",
              "      <td>2009.000000</td>\n",
              "      <td>1.780000</td>\n",
              "      <td>178.000000</td>\n",
              "      <td>4834.0</td>\n",
              "      <td>2.370000e+08</td>\n",
              "      <td>7.9</td>\n",
              "      <td>7.605058e+08</td>\n",
              "    </tr>\n",
              "    <tr>\n",
              "      <th>1</th>\n",
              "      <td>306000000.0</td>\n",
              "      <td>2.058662e+09</td>\n",
              "      <td>2002.130733</td>\n",
              "      <td>2.126976</td>\n",
              "      <td>108.577186</td>\n",
              "      <td>143.0</td>\n",
              "      <td>4.045539e+07</td>\n",
              "      <td>7.1</td>\n",
              "      <td>4.831933e+07</td>\n",
              "    </tr>\n",
              "    <tr>\n",
              "      <th>2</th>\n",
              "      <td>300000000.0</td>\n",
              "      <td>9.634204e+08</td>\n",
              "      <td>2007.000000</td>\n",
              "      <td>2.350000</td>\n",
              "      <td>169.000000</td>\n",
              "      <td>48350.0</td>\n",
              "      <td>3.000000e+08</td>\n",
              "      <td>7.1</td>\n",
              "      <td>3.094042e+08</td>\n",
              "    </tr>\n",
              "    <tr>\n",
              "      <th>3</th>\n",
              "      <td>300000000.0</td>\n",
              "      <td>8.796209e+08</td>\n",
              "      <td>2015.000000</td>\n",
              "      <td>2.350000</td>\n",
              "      <td>148.000000</td>\n",
              "      <td>11700.0</td>\n",
              "      <td>2.450000e+08</td>\n",
              "      <td>6.8</td>\n",
              "      <td>2.000742e+08</td>\n",
              "    </tr>\n",
              "    <tr>\n",
              "      <th>4</th>\n",
              "      <td>275000000.0</td>\n",
              "      <td>1.084439e+09</td>\n",
              "      <td>2012.000000</td>\n",
              "      <td>2.350000</td>\n",
              "      <td>164.000000</td>\n",
              "      <td>106759.0</td>\n",
              "      <td>2.500000e+08</td>\n",
              "      <td>8.5</td>\n",
              "      <td>4.481306e+08</td>\n",
              "    </tr>\n",
              "    <tr>\n",
              "      <th>...</th>\n",
              "      <td>...</td>\n",
              "      <td>...</td>\n",
              "      <td>...</td>\n",
              "      <td>...</td>\n",
              "      <td>...</td>\n",
              "      <td>...</td>\n",
              "      <td>...</td>\n",
              "      <td>...</td>\n",
              "      <td>...</td>\n",
              "    </tr>\n",
              "    <tr>\n",
              "      <th>4099</th>\n",
              "      <td>7000.0</td>\n",
              "      <td>8.419260e+05</td>\n",
              "      <td>2004.000000</td>\n",
              "      <td>1.850000</td>\n",
              "      <td>77.000000</td>\n",
              "      <td>368.0</td>\n",
              "      <td>7.000000e+03</td>\n",
              "      <td>7.0</td>\n",
              "      <td>4.247600e+05</td>\n",
              "    </tr>\n",
              "    <tr>\n",
              "      <th>4100</th>\n",
              "      <td>7000.0</td>\n",
              "      <td>7.164400e+04</td>\n",
              "      <td>2005.000000</td>\n",
              "      <td>2.126976</td>\n",
              "      <td>80.000000</td>\n",
              "      <td>0.0</td>\n",
              "      <td>7.000000e+03</td>\n",
              "      <td>6.3</td>\n",
              "      <td>7.007100e+04</td>\n",
              "    </tr>\n",
              "    <tr>\n",
              "      <th>4101</th>\n",
              "      <td>7000.0</td>\n",
              "      <td>9.000000e+02</td>\n",
              "      <td>2005.000000</td>\n",
              "      <td>2.126976</td>\n",
              "      <td>84.000000</td>\n",
              "      <td>93.0</td>\n",
              "      <td>3.250000e+03</td>\n",
              "      <td>7.8</td>\n",
              "      <td>4.831933e+07</td>\n",
              "    </tr>\n",
              "    <tr>\n",
              "      <th>4102</th>\n",
              "      <td>3967.0</td>\n",
              "      <td>1.044300e+04</td>\n",
              "      <td>2012.000000</td>\n",
              "      <td>2.350000</td>\n",
              "      <td>100.000000</td>\n",
              "      <td>2386.0</td>\n",
              "      <td>4.045539e+07</td>\n",
              "      <td>6.3</td>\n",
              "      <td>1.044300e+04</td>\n",
              "    </tr>\n",
              "    <tr>\n",
              "      <th>4103</th>\n",
              "      <td>1100.0</td>\n",
              "      <td>1.810410e+05</td>\n",
              "      <td>2004.000000</td>\n",
              "      <td>1.850000</td>\n",
              "      <td>90.000000</td>\n",
              "      <td>163.0</td>\n",
              "      <td>1.100000e+03</td>\n",
              "      <td>6.6</td>\n",
              "      <td>8.522200e+04</td>\n",
              "    </tr>\n",
              "  </tbody>\n",
              "</table>\n",
              "<p>4104 rows × 9 columns</p>\n",
              "</div>"
            ],
            "text/plain": [
              "                0             1            2  ...             6    7             8\n",
              "0     425000000.0  2.783919e+09  2009.000000  ...  2.370000e+08  7.9  7.605058e+08\n",
              "1     306000000.0  2.058662e+09  2002.130733  ...  4.045539e+07  7.1  4.831933e+07\n",
              "2     300000000.0  9.634204e+08  2007.000000  ...  3.000000e+08  7.1  3.094042e+08\n",
              "3     300000000.0  8.796209e+08  2015.000000  ...  2.450000e+08  6.8  2.000742e+08\n",
              "4     275000000.0  1.084439e+09  2012.000000  ...  2.500000e+08  8.5  4.481306e+08\n",
              "...           ...           ...          ...  ...           ...  ...           ...\n",
              "4099       7000.0  8.419260e+05  2004.000000  ...  7.000000e+03  7.0  4.247600e+05\n",
              "4100       7000.0  7.164400e+04  2005.000000  ...  7.000000e+03  6.3  7.007100e+04\n",
              "4101       7000.0  9.000000e+02  2005.000000  ...  3.250000e+03  7.8  4.831933e+07\n",
              "4102       3967.0  1.044300e+04  2012.000000  ...  4.045539e+07  6.3  1.044300e+04\n",
              "4103       1100.0  1.810410e+05  2004.000000  ...  1.100000e+03  6.6  8.522200e+04\n",
              "\n",
              "[4104 rows x 9 columns]"
            ]
          },
          "metadata": {
            "tags": []
          },
          "execution_count": 70
        }
      ]
    },
    {
      "cell_type": "code",
      "metadata": {
        "id": "Xw8yakaofqmo",
        "colab_type": "code",
        "colab": {}
      },
      "source": [
        "#nos falta agregar los índices, lo hacemos con:\n",
        "x.columns = movies_v2.columns\n",
        "x.index = movies_v2.index"
      ],
      "execution_count": 71,
      "outputs": []
    },
    {
      "cell_type": "code",
      "metadata": {
        "id": "_56nI5htgBZw",
        "colab_type": "code",
        "colab": {
          "base_uri": "https://localhost:8080/",
          "height": 204
        },
        "outputId": "624b70ef-e0a0-4827-93a0-697049e810bf"
      },
      "source": [
        "x.head() #aqui podemos ya ver el dataframe limpio y completo"
      ],
      "execution_count": 72,
      "outputs": [
        {
          "output_type": "execute_result",
          "data": {
            "text/html": [
              "<div>\n",
              "<style scoped>\n",
              "    .dataframe tbody tr th:only-of-type {\n",
              "        vertical-align: middle;\n",
              "    }\n",
              "\n",
              "    .dataframe tbody tr th {\n",
              "        vertical-align: top;\n",
              "    }\n",
              "\n",
              "    .dataframe thead th {\n",
              "        text-align: right;\n",
              "    }\n",
              "</style>\n",
              "<table border=\"1\" class=\"dataframe\">\n",
              "  <thead>\n",
              "    <tr style=\"text-align: right;\">\n",
              "      <th></th>\n",
              "      <th>production_budget</th>\n",
              "      <th>worldwide_gross</th>\n",
              "      <th>title_year</th>\n",
              "      <th>aspect_ratio</th>\n",
              "      <th>duration.1</th>\n",
              "      <th>cast_total_facebook_likes</th>\n",
              "      <th>budget</th>\n",
              "      <th>imdb_score</th>\n",
              "      <th>gross</th>\n",
              "    </tr>\n",
              "  </thead>\n",
              "  <tbody>\n",
              "    <tr>\n",
              "      <th>0</th>\n",
              "      <td>425000000.0</td>\n",
              "      <td>2.783919e+09</td>\n",
              "      <td>2009.000000</td>\n",
              "      <td>1.780000</td>\n",
              "      <td>178.000000</td>\n",
              "      <td>4834.0</td>\n",
              "      <td>2.370000e+08</td>\n",
              "      <td>7.9</td>\n",
              "      <td>7.605058e+08</td>\n",
              "    </tr>\n",
              "    <tr>\n",
              "      <th>1</th>\n",
              "      <td>306000000.0</td>\n",
              "      <td>2.058662e+09</td>\n",
              "      <td>2002.130733</td>\n",
              "      <td>2.126976</td>\n",
              "      <td>108.577186</td>\n",
              "      <td>143.0</td>\n",
              "      <td>4.045539e+07</td>\n",
              "      <td>7.1</td>\n",
              "      <td>4.831933e+07</td>\n",
              "    </tr>\n",
              "    <tr>\n",
              "      <th>2</th>\n",
              "      <td>300000000.0</td>\n",
              "      <td>9.634204e+08</td>\n",
              "      <td>2007.000000</td>\n",
              "      <td>2.350000</td>\n",
              "      <td>169.000000</td>\n",
              "      <td>48350.0</td>\n",
              "      <td>3.000000e+08</td>\n",
              "      <td>7.1</td>\n",
              "      <td>3.094042e+08</td>\n",
              "    </tr>\n",
              "    <tr>\n",
              "      <th>3</th>\n",
              "      <td>300000000.0</td>\n",
              "      <td>8.796209e+08</td>\n",
              "      <td>2015.000000</td>\n",
              "      <td>2.350000</td>\n",
              "      <td>148.000000</td>\n",
              "      <td>11700.0</td>\n",
              "      <td>2.450000e+08</td>\n",
              "      <td>6.8</td>\n",
              "      <td>2.000742e+08</td>\n",
              "    </tr>\n",
              "    <tr>\n",
              "      <th>4</th>\n",
              "      <td>275000000.0</td>\n",
              "      <td>1.084439e+09</td>\n",
              "      <td>2012.000000</td>\n",
              "      <td>2.350000</td>\n",
              "      <td>164.000000</td>\n",
              "      <td>106759.0</td>\n",
              "      <td>2.500000e+08</td>\n",
              "      <td>8.5</td>\n",
              "      <td>4.481306e+08</td>\n",
              "    </tr>\n",
              "  </tbody>\n",
              "</table>\n",
              "</div>"
            ],
            "text/plain": [
              "   production_budget  worldwide_gross  ...  imdb_score         gross\n",
              "0        425000000.0     2.783919e+09  ...         7.9  7.605058e+08\n",
              "1        306000000.0     2.058662e+09  ...         7.1  4.831933e+07\n",
              "2        300000000.0     9.634204e+08  ...         7.1  3.094042e+08\n",
              "3        300000000.0     8.796209e+08  ...         6.8  2.000742e+08\n",
              "4        275000000.0     1.084439e+09  ...         8.5  4.481306e+08\n",
              "\n",
              "[5 rows x 9 columns]"
            ]
          },
          "metadata": {
            "tags": []
          },
          "execution_count": 72
        }
      ]
    },
    {
      "cell_type": "code",
      "metadata": {
        "id": "wWKN_9rrgGbo",
        "colab_type": "code",
        "colab": {
          "base_uri": "https://localhost:8080/",
          "height": 17
        },
        "outputId": "a60b2d34-c418-4ad8-db96-d427f3d7f5c8"
      },
      "source": [
        "#guardamos el dataframe en un .csv\n",
        "from google.colab import files\n",
        "x.to_csv('x.csv',index=False)\n",
        "files.download('x.csv')"
      ],
      "execution_count": 74,
      "outputs": [
        {
          "output_type": "display_data",
          "data": {
            "application/javascript": [
              "\n",
              "    async function download(id, filename, size) {\n",
              "      if (!google.colab.kernel.accessAllowed) {\n",
              "        return;\n",
              "      }\n",
              "      const div = document.createElement('div');\n",
              "      const label = document.createElement('label');\n",
              "      label.textContent = `Downloading \"${filename}\": `;\n",
              "      div.appendChild(label);\n",
              "      const progress = document.createElement('progress');\n",
              "      progress.max = size;\n",
              "      div.appendChild(progress);\n",
              "      document.body.appendChild(div);\n",
              "\n",
              "      const buffers = [];\n",
              "      let downloaded = 0;\n",
              "\n",
              "      const channel = await google.colab.kernel.comms.open(id);\n",
              "      // Send a message to notify the kernel that we're ready.\n",
              "      channel.send({})\n",
              "\n",
              "      for await (const message of channel.messages) {\n",
              "        // Send a message to notify the kernel that we're ready.\n",
              "        channel.send({})\n",
              "        if (message.buffers) {\n",
              "          for (const buffer of message.buffers) {\n",
              "            buffers.push(buffer);\n",
              "            downloaded += buffer.byteLength;\n",
              "            progress.value = downloaded;\n",
              "          }\n",
              "        }\n",
              "      }\n",
              "      const blob = new Blob(buffers, {type: 'application/binary'});\n",
              "      const a = document.createElement('a');\n",
              "      a.href = window.URL.createObjectURL(blob);\n",
              "      a.download = filename;\n",
              "      div.appendChild(a);\n",
              "      a.click();\n",
              "      div.remove();\n",
              "    }\n",
              "  "
            ],
            "text/plain": [
              "<IPython.core.display.Javascript object>"
            ]
          },
          "metadata": {
            "tags": []
          }
        },
        {
          "output_type": "display_data",
          "data": {
            "application/javascript": [
              "download(\"download_9b25aa74-bd3a-466a-aa07-145c0f908ff1\", \"x.csv\", 301956)"
            ],
            "text/plain": [
              "<IPython.core.display.Javascript object>"
            ]
          },
          "metadata": {
            "tags": []
          }
        }
      ]
    }
  ]
}